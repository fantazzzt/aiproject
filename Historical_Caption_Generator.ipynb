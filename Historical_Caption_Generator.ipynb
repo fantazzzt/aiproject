{
  "cells": [
    {
      "cell_type": "markdown",
      "metadata": {
        "id": "W-9CoE6-3Al0"
      },
      "source": [
        "## Import Modules"
      ]
    },
    {
      "cell_type": "code",
      "execution_count": 1,
      "metadata": {
        "execution": {
          "iopub.execute_input": "2022-03-06T06:34:14.990195Z",
          "iopub.status.busy": "2022-03-06T06:34:14.989864Z",
          "iopub.status.idle": "2022-03-06T06:34:19.970661Z",
          "shell.execute_reply": "2022-03-06T06:34:19.969956Z",
          "shell.execute_reply.started": "2022-03-06T06:34:14.990114Z"
        },
        "id": "5har4BsO3Al1"
      },
      "outputs": [],
      "source": [
        "import os\n",
        "import pickle\n",
        "import numpy as np\n",
        "from tqdm.notebook import tqdm\n",
        "\n",
        "from tensorflow.keras.applications.vgg16 import VGG16, preprocess_input\n",
        "from tensorflow.keras.preprocessing.image import load_img, img_to_array\n",
        "from tensorflow.keras.preprocessing.text import Tokenizer\n",
        "from tensorflow.keras.preprocessing.sequence import pad_sequences\n",
        "from tensorflow.keras.models import Model\n",
        "from tensorflow.keras.utils import to_categorical, plot_model\n",
        "from tensorflow.keras.layers import Input, Dense, LSTM, Embedding, Dropout, add\n",
        "from tensorflow.keras.models import load_model"
      ]
    },
    {
      "cell_type": "code",
      "source": [
        "from google.colab import drive\n",
        "drive.mount(\"/content/drive\", force_remount=True)\n",
        "\n",
        "%cd \"/content/drive/MyDrive/CS4701/\""
      ],
      "metadata": {
        "colab": {
          "base_uri": "https://localhost:8080/"
        },
        "id": "4pbI1mDhahKF",
        "outputId": "b1893bfb-fa65-47a7-f985-38763625d46a"
      },
      "execution_count": 2,
      "outputs": [
        {
          "output_type": "stream",
          "name": "stdout",
          "text": [
            "Mounted at /content/drive\n",
            "/content/drive/MyDrive/CS4701\n"
          ]
        }
      ]
    },
    {
      "cell_type": "code",
      "execution_count": 3,
      "metadata": {
        "execution": {
          "iopub.execute_input": "2022-03-06T06:34:19.972539Z",
          "iopub.status.busy": "2022-03-06T06:34:19.972303Z",
          "iopub.status.idle": "2022-03-06T06:34:19.978812Z",
          "shell.execute_reply": "2022-03-06T06:34:19.977587Z",
          "shell.execute_reply.started": "2022-03-06T06:34:19.972501Z"
        },
        "id": "RAV10xML3Al2"
      },
      "outputs": [],
      "source": [
        "ROOT_DIR = os.path.abspath(\".\")\n",
        "\n",
        "BASE_DIR = os.path.join(ROOT_DIR, \"tensorflow/historical_images\")\n",
        "WORKING_DIR = os.path.join(ROOT_DIR, \"tensorflow/\")"
      ]
    },
    {
      "cell_type": "markdown",
      "metadata": {
        "id": "8BL4WaPM3Al2"
      },
      "source": [
        "## Extract Image Features"
      ]
    },
    {
      "cell_type": "code",
      "execution_count": 4,
      "metadata": {
        "execution": {
          "iopub.execute_input": "2022-03-06T06:34:19.982304Z",
          "iopub.status.busy": "2022-03-06T06:34:19.982057Z",
          "iopub.status.idle": "2022-03-06T06:34:26.712594Z",
          "shell.execute_reply": "2022-03-06T06:34:26.711913Z",
          "shell.execute_reply.started": "2022-03-06T06:34:19.982271Z"
        },
        "id": "7aegwEbG3Al3",
        "outputId": "bdeea0cb-6b52-4da4-f9b1-183b12d059e6",
        "colab": {
          "base_uri": "https://localhost:8080/"
        }
      },
      "outputs": [
        {
          "output_type": "stream",
          "name": "stdout",
          "text": [
            "Downloading data from https://storage.googleapis.com/tensorflow/keras-applications/vgg16/vgg16_weights_tf_dim_ordering_tf_kernels.h5\n",
            "553467096/553467096 [==============================] - 3s 0us/step\n",
            "Model: \"model\"\n",
            "_________________________________________________________________\n",
            " Layer (type)                Output Shape              Param #   \n",
            "=================================================================\n",
            " input_1 (InputLayer)        [(None, 224, 224, 3)]     0         \n",
            "                                                                 \n",
            " block1_conv1 (Conv2D)       (None, 224, 224, 64)      1792      \n",
            "                                                                 \n",
            " block1_conv2 (Conv2D)       (None, 224, 224, 64)      36928     \n",
            "                                                                 \n",
            " block1_pool (MaxPooling2D)  (None, 112, 112, 64)      0         \n",
            "                                                                 \n",
            " block2_conv1 (Conv2D)       (None, 112, 112, 128)     73856     \n",
            "                                                                 \n",
            " block2_conv2 (Conv2D)       (None, 112, 112, 128)     147584    \n",
            "                                                                 \n",
            " block2_pool (MaxPooling2D)  (None, 56, 56, 128)       0         \n",
            "                                                                 \n",
            " block3_conv1 (Conv2D)       (None, 56, 56, 256)       295168    \n",
            "                                                                 \n",
            " block3_conv2 (Conv2D)       (None, 56, 56, 256)       590080    \n",
            "                                                                 \n",
            " block3_conv3 (Conv2D)       (None, 56, 56, 256)       590080    \n",
            "                                                                 \n",
            " block3_pool (MaxPooling2D)  (None, 28, 28, 256)       0         \n",
            "                                                                 \n",
            " block4_conv1 (Conv2D)       (None, 28, 28, 512)       1180160   \n",
            "                                                                 \n",
            " block4_conv2 (Conv2D)       (None, 28, 28, 512)       2359808   \n",
            "                                                                 \n",
            " block4_conv3 (Conv2D)       (None, 28, 28, 512)       2359808   \n",
            "                                                                 \n",
            " block4_pool (MaxPooling2D)  (None, 14, 14, 512)       0         \n",
            "                                                                 \n",
            " block5_conv1 (Conv2D)       (None, 14, 14, 512)       2359808   \n",
            "                                                                 \n",
            " block5_conv2 (Conv2D)       (None, 14, 14, 512)       2359808   \n",
            "                                                                 \n",
            " block5_conv3 (Conv2D)       (None, 14, 14, 512)       2359808   \n",
            "                                                                 \n",
            " block5_pool (MaxPooling2D)  (None, 7, 7, 512)         0         \n",
            "                                                                 \n",
            " flatten (Flatten)           (None, 25088)             0         \n",
            "                                                                 \n",
            " fc1 (Dense)                 (None, 4096)              102764544 \n",
            "                                                                 \n",
            " fc2 (Dense)                 (None, 4096)              16781312  \n",
            "                                                                 \n",
            "=================================================================\n",
            "Total params: 134260544 (512.16 MB)\n",
            "Trainable params: 134260544 (512.16 MB)\n",
            "Non-trainable params: 0 (0.00 Byte)\n",
            "_________________________________________________________________\n",
            "None\n"
          ]
        }
      ],
      "source": [
        "# vgg16 model\n",
        "model = VGG16()\n",
        "model = Model(inputs=model.inputs, outputs=model.layers[-2].output)\n",
        "# summarize\n",
        "print(model.summary())"
      ]
    },
    {
      "cell_type": "code",
      "execution_count": 5,
      "metadata": {
        "execution": {
          "iopub.execute_input": "2022-03-06T06:34:26.714171Z",
          "iopub.status.busy": "2022-03-06T06:34:26.713924Z",
          "iopub.status.idle": "2022-03-06T06:42:34.816462Z",
          "shell.execute_reply": "2022-03-06T06:42:34.815809Z",
          "shell.execute_reply.started": "2022-03-06T06:34:26.714138Z"
        },
        "colab": {
          "referenced_widgets": [
            "dee1e17c501940aa9834252e34e08a84",
            "5784eac0ac144312890b312816cbec07",
            "190781b385f442a0a615bc4fcf67d0f7",
            "6d312b7b162b4176abd5f5c46f3467fa",
            "c6d90098810246cbbd7335784d75d93b",
            "0fc1bd1af16c483bb4da1ea748dfad9c",
            "8a855007172a4b0789674551d2e407f9",
            "ad1179e3652a444284a746a4f8f71dec",
            "c49bf0f688c44180ae6664fea1f69afa",
            "30aa79b6c1da4dd8aa17dd4c8fe6cb5b",
            "d79016dbbdf24782bab0cd15cef0ae26"
          ],
          "base_uri": "https://localhost:8080/",
          "height": 49
        },
        "id": "1h9J0l5t3Al3",
        "outputId": "210aeffa-58d7-4523-c868-a71c64b2d53c"
      },
      "outputs": [
        {
          "output_type": "display_data",
          "data": {
            "text/plain": [
              "  0%|          | 0/1325 [00:00<?, ?it/s]"
            ],
            "application/vnd.jupyter.widget-view+json": {
              "version_major": 2,
              "version_minor": 0,
              "model_id": "dee1e17c501940aa9834252e34e08a84"
            }
          },
          "metadata": {}
        }
      ],
      "source": [
        "# extract features from image\n",
        "features = {}\n",
        "directory = os.path.join(BASE_DIR, 'images')\n",
        "\n",
        "for img_name in tqdm(os.listdir(directory)):\n",
        "    # load the image from file\n",
        "    img_path = directory + '/' + img_name\n",
        "    image = load_img(img_path, target_size=(224, 224))\n",
        "    # convert image pixels to numpy array\n",
        "    image = img_to_array(image)\n",
        "    # reshape data for model\n",
        "    image = image.reshape((1, image.shape[0], image.shape[1], image.shape[2]))\n",
        "    # preprocess image for vgg\n",
        "    image = preprocess_input(image)\n",
        "    # extract features\n",
        "    feature = model.predict(image, verbose=0)\n",
        "    # get image ID\n",
        "    image_id = img_name.split('.')[0]\n",
        "    # store feature\n",
        "    features[image_id] = feature\n",
        "    # num -= 1"
      ]
    },
    {
      "cell_type": "code",
      "execution_count": 6,
      "metadata": {
        "execution": {
          "iopub.execute_input": "2022-03-06T06:42:34.819143Z",
          "iopub.status.busy": "2022-03-06T06:42:34.818823Z",
          "iopub.status.idle": "2022-03-06T06:42:35.148181Z",
          "shell.execute_reply": "2022-03-06T06:42:35.147422Z",
          "shell.execute_reply.started": "2022-03-06T06:42:34.819101Z"
        },
        "id": "7OV32sn03Al4"
      },
      "outputs": [],
      "source": [
        "# store features in pickle\n",
        "pickle.dump(features, open(os.path.join(WORKING_DIR, 'features.pkl'), 'wb'))"
      ]
    },
    {
      "cell_type": "code",
      "execution_count": 2,
      "metadata": {
        "execution": {
          "iopub.execute_input": "2022-03-06T06:42:35.150092Z",
          "iopub.status.busy": "2022-03-06T06:42:35.149415Z",
          "iopub.status.idle": "2022-03-06T06:42:35.312615Z",
          "shell.execute_reply": "2022-03-06T06:42:35.311884Z",
          "shell.execute_reply.started": "2022-03-06T06:42:35.150052Z"
        },
        "id": "wKmNe01U3Al4",
        "colab": {
          "base_uri": "https://localhost:8080/",
          "height": 228
        },
        "outputId": "7851a77a-6ff7-451b-f7bd-eef3f055a276"
      },
      "outputs": [
        {
          "output_type": "error",
          "ename": "NameError",
          "evalue": "ignored",
          "traceback": [
            "\u001b[0;31m---------------------------------------------------------------------------\u001b[0m",
            "\u001b[0;31mNameError\u001b[0m                                 Traceback (most recent call last)",
            "\u001b[0;32m<ipython-input-2-c5b7ca74fae3>\u001b[0m in \u001b[0;36m<cell line: 2>\u001b[0;34m()\u001b[0m\n\u001b[1;32m      1\u001b[0m \u001b[0;31m# load features from pickle\u001b[0m\u001b[0;34m\u001b[0m\u001b[0;34m\u001b[0m\u001b[0m\n\u001b[0;32m----> 2\u001b[0;31m \u001b[0;32mwith\u001b[0m \u001b[0mopen\u001b[0m\u001b[0;34m(\u001b[0m\u001b[0mos\u001b[0m\u001b[0;34m.\u001b[0m\u001b[0mpath\u001b[0m\u001b[0;34m.\u001b[0m\u001b[0mjoin\u001b[0m\u001b[0;34m(\u001b[0m\u001b[0mWORKING_DIR\u001b[0m\u001b[0;34m,\u001b[0m \u001b[0;34m'features.pkl'\u001b[0m\u001b[0;34m)\u001b[0m\u001b[0;34m,\u001b[0m \u001b[0;34m'rb'\u001b[0m\u001b[0;34m)\u001b[0m \u001b[0;32mas\u001b[0m \u001b[0mf\u001b[0m\u001b[0;34m:\u001b[0m\u001b[0;34m\u001b[0m\u001b[0;34m\u001b[0m\u001b[0m\n\u001b[0m\u001b[1;32m      3\u001b[0m     \u001b[0mfeatures\u001b[0m \u001b[0;34m=\u001b[0m \u001b[0mpickle\u001b[0m\u001b[0;34m.\u001b[0m\u001b[0mload\u001b[0m\u001b[0;34m(\u001b[0m\u001b[0mf\u001b[0m\u001b[0;34m)\u001b[0m\u001b[0;34m\u001b[0m\u001b[0;34m\u001b[0m\u001b[0m\n\u001b[1;32m      4\u001b[0m \u001b[0mprint\u001b[0m\u001b[0;34m(\u001b[0m\u001b[0mfeatures\u001b[0m\u001b[0;34m)\u001b[0m\u001b[0;34m\u001b[0m\u001b[0;34m\u001b[0m\u001b[0m\n",
            "\u001b[0;31mNameError\u001b[0m: name 'os' is not defined"
          ]
        }
      ],
      "source": [
        "# load features from pickle\n",
        "with open(os.path.join(WORKING_DIR, 'features.pkl'), 'rb') as f:\n",
        "    features = pickle.load(f)\n",
        "print(features)"
      ]
    },
    {
      "cell_type": "markdown",
      "metadata": {
        "id": "ynn5kBhR3Al4"
      },
      "source": [
        "## Load the Captions Data"
      ]
    },
    {
      "cell_type": "code",
      "execution_count": 24,
      "metadata": {
        "execution": {
          "iopub.execute_input": "2022-03-06T06:42:35.315520Z",
          "iopub.status.busy": "2022-03-06T06:42:35.314779Z",
          "iopub.status.idle": "2022-03-06T06:42:35.378135Z",
          "shell.execute_reply": "2022-03-06T06:42:35.377462Z",
          "shell.execute_reply.started": "2022-03-06T06:42:35.315478Z"
        },
        "id": "CiQ9YfDK3Al4"
      },
      "outputs": [],
      "source": [
        "# with open(os.path.join(BASE_DIR, 'captions.txt'), 'r') as f:\n",
        "with open(os.path.join(BASE_DIR, 'captions_with_decade.txt'), 'r') as f:\n",
        "    next(f)\n",
        "    captions_doc = f.read()"
      ]
    },
    {
      "cell_type": "code",
      "execution_count": 1,
      "metadata": {
        "execution": {
          "iopub.execute_input": "2022-03-06T06:42:35.379822Z",
          "iopub.status.busy": "2022-03-06T06:42:35.379546Z",
          "iopub.status.idle": "2022-03-06T06:42:35.520768Z",
          "shell.execute_reply": "2022-03-06T06:42:35.520076Z",
          "shell.execute_reply.started": "2022-03-06T06:42:35.379783Z"
        },
        "colab": {
          "base_uri": "https://localhost:8080/",
          "height": 245
        },
        "id": "kdMMesp63Al5",
        "outputId": "023df4a5-9ca2-4d55-f379-726c31676ef2"
      },
      "outputs": [
        {
          "output_type": "error",
          "ename": "NameError",
          "evalue": "ignored",
          "traceback": [
            "\u001b[0;31m---------------------------------------------------------------------------\u001b[0m",
            "\u001b[0;31mNameError\u001b[0m                                 Traceback (most recent call last)",
            "\u001b[0;32m<ipython-input-1-c1cb59448ccf>\u001b[0m in \u001b[0;36m<cell line: 4>\u001b[0;34m()\u001b[0m\n\u001b[1;32m      2\u001b[0m \u001b[0mmapping\u001b[0m \u001b[0;34m=\u001b[0m \u001b[0;34m{\u001b[0m\u001b[0;34m}\u001b[0m\u001b[0;34m\u001b[0m\u001b[0;34m\u001b[0m\u001b[0m\n\u001b[1;32m      3\u001b[0m \u001b[0;31m# process lines\u001b[0m\u001b[0;34m\u001b[0m\u001b[0;34m\u001b[0m\u001b[0m\n\u001b[0;32m----> 4\u001b[0;31m \u001b[0;32mfor\u001b[0m \u001b[0mline\u001b[0m \u001b[0;32min\u001b[0m \u001b[0mtqdm\u001b[0m\u001b[0;34m(\u001b[0m\u001b[0mcaptions_doc\u001b[0m\u001b[0;34m.\u001b[0m\u001b[0msplit\u001b[0m\u001b[0;34m(\u001b[0m\u001b[0;34m'\\n'\u001b[0m\u001b[0;34m)\u001b[0m\u001b[0;34m)\u001b[0m\u001b[0;34m:\u001b[0m\u001b[0;34m\u001b[0m\u001b[0;34m\u001b[0m\u001b[0m\n\u001b[0m\u001b[1;32m      5\u001b[0m     \u001b[0;31m# split the line by comma(,)\u001b[0m\u001b[0;34m\u001b[0m\u001b[0;34m\u001b[0m\u001b[0m\n\u001b[1;32m      6\u001b[0m     \u001b[0mtokens\u001b[0m \u001b[0;34m=\u001b[0m \u001b[0mline\u001b[0m\u001b[0;34m.\u001b[0m\u001b[0msplit\u001b[0m\u001b[0;34m(\u001b[0m\u001b[0;34m','\u001b[0m\u001b[0;34m)\u001b[0m\u001b[0;34m\u001b[0m\u001b[0;34m\u001b[0m\u001b[0m\n",
            "\u001b[0;31mNameError\u001b[0m: name 'tqdm' is not defined"
          ]
        }
      ],
      "source": [
        "# create mapping of image to captions\n",
        "mapping = {}\n",
        "# process lines\n",
        "for line in tqdm(captions_doc.split('\\n')):\n",
        "    # split the line by comma(,)\n",
        "    tokens = line.split(',')\n",
        "    if len(line) < 2:\n",
        "        continue\n",
        "\n",
        "    image_id, caption, decade = tokens[0], tokens[1], tokens[2:]\n",
        "    # remove extension from image ID\n",
        "    image_id = image_id.split('.')[0]\n",
        "\n",
        "    decade = \" \".join(decade)\n",
        "    # create list if needed\n",
        "    if image_id not in mapping:\n",
        "        mapping[image_id] = []\n",
        "    # store the caption\n",
        "    mapping[image_id].append(caption)\n",
        "    mapping[image_id].append(decade)"
      ]
    },
    {
      "cell_type": "markdown",
      "source": [
        "c"
      ],
      "metadata": {
        "id": "8EzsiUzlUhDV"
      }
    },
    {
      "cell_type": "code",
      "execution_count": 3,
      "metadata": {
        "execution": {
          "iopub.execute_input": "2022-03-06T06:42:35.522414Z",
          "iopub.status.busy": "2022-03-06T06:42:35.522031Z",
          "iopub.status.idle": "2022-03-06T06:42:35.530158Z",
          "shell.execute_reply": "2022-03-06T06:42:35.529170Z",
          "shell.execute_reply.started": "2022-03-06T06:42:35.522377Z"
        },
        "id": "tvvcy2sg3Al5",
        "outputId": "ebed61f7-f7f3-4bda-f392-4f6d3d57e376",
        "colab": {
          "base_uri": "https://localhost:8080/"
        }
      },
      "outputs": [
        {
          "output_type": "stream",
          "name": "stdout",
          "text": [
            "{}\n"
          ]
        }
      ],
      "source": [
        "len(mapping)\n",
        "print(mapping)"
      ]
    },
    {
      "cell_type": "markdown",
      "metadata": {
        "id": "3PObebIR3Al5"
      },
      "source": [
        "## Preprocess Text Data"
      ]
    },
    {
      "cell_type": "code",
      "execution_count": 28,
      "metadata": {
        "execution": {
          "iopub.execute_input": "2022-03-06T06:42:35.531789Z",
          "iopub.status.busy": "2022-03-06T06:42:35.531417Z",
          "iopub.status.idle": "2022-03-06T06:42:35.539936Z",
          "shell.execute_reply": "2022-03-06T06:42:35.539143Z",
          "shell.execute_reply.started": "2022-03-06T06:42:35.531753Z"
        },
        "id": "bk88iSAu3Al5"
      },
      "outputs": [],
      "source": [
        "def clean(mapping):\n",
        "    for key, values in mapping.items():\n",
        "        caption, decade = values\n",
        "        # preprocessing steps\n",
        "        # convert to lowercase\n",
        "        caption = caption.lower()\n",
        "        # delete digits, special chars, etc.,\n",
        "        caption = caption.replace('[^A-Za-z]', '')\n",
        "        # delete additional spaces\n",
        "        caption = caption.replace('\\s+', ' ')\n",
        "        # add start and end tags to the caption\n",
        "        caption = 'startseq ' + \" \".join([word for word in caption.split() if len(word)>1]) + ' endseq'\n",
        "\n",
        "        values[0] = caption"
      ]
    },
    {
      "cell_type": "code",
      "execution_count": 7,
      "metadata": {
        "execution": {
          "iopub.execute_input": "2022-03-06T06:42:35.541972Z",
          "iopub.status.busy": "2022-03-06T06:42:35.541482Z",
          "iopub.status.idle": "2022-03-06T06:42:35.550972Z",
          "shell.execute_reply": "2022-03-06T06:42:35.549978Z",
          "shell.execute_reply.started": "2022-03-06T06:42:35.541937Z"
        },
        "id": "wpUkEozK3Al6",
        "outputId": "7f4dfb53-3598-4098-b4e6-82fa2188e7d7",
        "colab": {
          "base_uri": "https://localhost:8080/",
          "height": 211
        }
      },
      "outputs": [
        {
          "output_type": "error",
          "ename": "KeyError",
          "evalue": "ignored",
          "traceback": [
            "\u001b[0;31m---------------------------------------------------------------------------\u001b[0m",
            "\u001b[0;31mKeyError\u001b[0m                                  Traceback (most recent call last)",
            "\u001b[0;32m<ipython-input-7-bd0c9dfb9afc>\u001b[0m in \u001b[0;36m<cell line: 3>\u001b[0;34m()\u001b[0m\n\u001b[1;32m      1\u001b[0m \u001b[0;31m# before preprocess of text\u001b[0m\u001b[0;34m\u001b[0m\u001b[0;34m\u001b[0m\u001b[0m\n\u001b[1;32m      2\u001b[0m \u001b[0;31m# print(mapping)\u001b[0m\u001b[0;34m\u001b[0m\u001b[0;34m\u001b[0m\u001b[0m\n\u001b[0;32m----> 3\u001b[0;31m \u001b[0mmapping\u001b[0m\u001b[0;34m[\u001b[0m\u001b[0;34m'1930s_1'\u001b[0m\u001b[0;34m]\u001b[0m\u001b[0;34m\u001b[0m\u001b[0;34m\u001b[0m\u001b[0m\n\u001b[0m",
            "\u001b[0;31mKeyError\u001b[0m: '1930s_1'"
          ]
        }
      ],
      "source": [
        "# before preprocess of text\n",
        "# print(mapping)\n",
        "mapping['1930s_1']"
      ]
    },
    {
      "cell_type": "code",
      "execution_count": 30,
      "metadata": {
        "execution": {
          "iopub.execute_input": "2022-03-06T06:42:35.553409Z",
          "iopub.status.busy": "2022-03-06T06:42:35.552825Z",
          "iopub.status.idle": "2022-03-06T06:42:35.692145Z",
          "shell.execute_reply": "2022-03-06T06:42:35.691520Z",
          "shell.execute_reply.started": "2022-03-06T06:42:35.553368Z"
        },
        "id": "kh8GophE3Al6"
      },
      "outputs": [],
      "source": [
        "# preprocess the text\n",
        "clean(mapping)"
      ]
    },
    {
      "cell_type": "code",
      "execution_count": 31,
      "metadata": {
        "execution": {
          "iopub.execute_input": "2022-03-06T06:42:35.693654Z",
          "iopub.status.busy": "2022-03-06T06:42:35.693412Z",
          "iopub.status.idle": "2022-03-06T06:42:35.698691Z",
          "shell.execute_reply": "2022-03-06T06:42:35.697951Z",
          "shell.execute_reply.started": "2022-03-06T06:42:35.693623Z"
        },
        "id": "WsIL_bqe3Al6",
        "outputId": "87891771-639e-4447-dca6-07d275c31635",
        "colab": {
          "base_uri": "https://localhost:8080/"
        }
      },
      "outputs": [
        {
          "output_type": "execute_result",
          "data": {
            "text/plain": [
              "['startseq man and woman are standing on boat during the 1930s endseq',\n",
              " '1930s']"
            ]
          },
          "metadata": {},
          "execution_count": 31
        }
      ],
      "source": [
        "# after preprocess of text\n",
        "mapping['1930s_1']"
      ]
    },
    {
      "cell_type": "code",
      "execution_count": 8,
      "metadata": {
        "execution": {
          "iopub.execute_input": "2022-03-06T06:42:35.703681Z",
          "iopub.status.busy": "2022-03-06T06:42:35.703176Z",
          "iopub.status.idle": "2022-03-06T06:42:35.716917Z",
          "shell.execute_reply": "2022-03-06T06:42:35.716311Z",
          "shell.execute_reply.started": "2022-03-06T06:42:35.703644Z"
        },
        "id": "8X-JvcV13Al6"
      },
      "outputs": [],
      "source": [
        "all_captions = []\n",
        "for key in mapping:\n",
        "    all_captions.append(mapping[key][0])\n",
        "# print(all_captions)"
      ]
    },
    {
      "cell_type": "code",
      "execution_count": 33,
      "metadata": {
        "execution": {
          "iopub.execute_input": "2022-03-06T06:42:35.719878Z",
          "iopub.status.busy": "2022-03-06T06:42:35.719667Z",
          "iopub.status.idle": "2022-03-06T06:42:35.728236Z",
          "shell.execute_reply": "2022-03-06T06:42:35.727288Z",
          "shell.execute_reply.started": "2022-03-06T06:42:35.719843Z"
        },
        "id": "-lXeqNV33Al6",
        "outputId": "5bec2efa-beb2-4ffa-a8c0-f7bbd0d45835",
        "colab": {
          "base_uri": "https://localhost:8080/"
        }
      },
      "outputs": [
        {
          "output_type": "execute_result",
          "data": {
            "text/plain": [
              "1325"
            ]
          },
          "metadata": {},
          "execution_count": 33
        }
      ],
      "source": [
        "len(all_captions)"
      ]
    },
    {
      "cell_type": "code",
      "execution_count": 9,
      "metadata": {
        "execution": {
          "iopub.execute_input": "2022-03-06T06:42:35.730327Z",
          "iopub.status.busy": "2022-03-06T06:42:35.730058Z",
          "iopub.status.idle": "2022-03-06T06:42:35.737755Z",
          "shell.execute_reply": "2022-03-06T06:42:35.736976Z",
          "shell.execute_reply.started": "2022-03-06T06:42:35.730295Z"
        },
        "id": "Ca0fmRzC3Al6"
      },
      "outputs": [],
      "source": [
        "# all_captions[:10]"
      ]
    },
    {
      "cell_type": "code",
      "execution_count": 10,
      "metadata": {
        "execution": {
          "iopub.execute_input": "2022-03-06T06:42:35.739724Z",
          "iopub.status.busy": "2022-03-06T06:42:35.739327Z",
          "iopub.status.idle": "2022-03-06T06:42:36.355776Z",
          "shell.execute_reply": "2022-03-06T06:42:36.355062Z",
          "shell.execute_reply.started": "2022-03-06T06:42:35.739686Z"
        },
        "id": "Te3Rx0rO3Al7",
        "colab": {
          "base_uri": "https://localhost:8080/",
          "height": 228
        },
        "outputId": "d0ebe3b5-1f60-49d1-a333-f63ec342c917"
      },
      "outputs": [
        {
          "output_type": "error",
          "ename": "NameError",
          "evalue": "ignored",
          "traceback": [
            "\u001b[0;31m---------------------------------------------------------------------------\u001b[0m",
            "\u001b[0;31mNameError\u001b[0m                                 Traceback (most recent call last)",
            "\u001b[0;32m<ipython-input-10-983c671763fb>\u001b[0m in \u001b[0;36m<cell line: 2>\u001b[0;34m()\u001b[0m\n\u001b[1;32m      1\u001b[0m \u001b[0;31m# tokenize the text\u001b[0m\u001b[0;34m\u001b[0m\u001b[0;34m\u001b[0m\u001b[0m\n\u001b[0;32m----> 2\u001b[0;31m \u001b[0mtokenizer\u001b[0m \u001b[0;34m=\u001b[0m \u001b[0mTokenizer\u001b[0m\u001b[0;34m(\u001b[0m\u001b[0;34m)\u001b[0m\u001b[0;34m\u001b[0m\u001b[0;34m\u001b[0m\u001b[0m\n\u001b[0m\u001b[1;32m      3\u001b[0m \u001b[0mtokenizer\u001b[0m\u001b[0;34m.\u001b[0m\u001b[0mfit_on_texts\u001b[0m\u001b[0;34m(\u001b[0m\u001b[0mall_captions\u001b[0m\u001b[0;34m)\u001b[0m\u001b[0;34m\u001b[0m\u001b[0;34m\u001b[0m\u001b[0m\n\u001b[1;32m      4\u001b[0m \u001b[0mvocab_size\u001b[0m \u001b[0;34m=\u001b[0m \u001b[0mlen\u001b[0m\u001b[0;34m(\u001b[0m\u001b[0mtokenizer\u001b[0m\u001b[0;34m.\u001b[0m\u001b[0mword_index\u001b[0m\u001b[0;34m)\u001b[0m \u001b[0;34m+\u001b[0m \u001b[0;36m1\u001b[0m\u001b[0;34m\u001b[0m\u001b[0;34m\u001b[0m\u001b[0m\n",
            "\u001b[0;31mNameError\u001b[0m: name 'Tokenizer' is not defined"
          ]
        }
      ],
      "source": [
        "# tokenize the text\n",
        "tokenizer = Tokenizer()\n",
        "tokenizer.fit_on_texts(all_captions)\n",
        "vocab_size = len(tokenizer.word_index) + 1"
      ]
    },
    {
      "cell_type": "code",
      "execution_count": 38,
      "metadata": {
        "execution": {
          "iopub.execute_input": "2022-03-06T06:42:36.357418Z",
          "iopub.status.busy": "2022-03-06T06:42:36.357182Z",
          "iopub.status.idle": "2022-03-06T06:42:36.362429Z",
          "shell.execute_reply": "2022-03-06T06:42:36.361793Z",
          "shell.execute_reply.started": "2022-03-06T06:42:36.357385Z"
        },
        "id": "8Gp_iNcP3Al7",
        "outputId": "92c21857-4930-4fbb-ec6a-86544ee4f7a0",
        "colab": {
          "base_uri": "https://localhost:8080/"
        }
      },
      "outputs": [
        {
          "output_type": "execute_result",
          "data": {
            "text/plain": [
              "571"
            ]
          },
          "metadata": {},
          "execution_count": 38
        }
      ],
      "source": [
        "vocab_size"
      ]
    },
    {
      "cell_type": "code",
      "execution_count": 39,
      "metadata": {
        "execution": {
          "iopub.execute_input": "2022-03-06T06:42:36.364347Z",
          "iopub.status.busy": "2022-03-06T06:42:36.363844Z",
          "iopub.status.idle": "2022-03-06T06:42:36.403655Z",
          "shell.execute_reply": "2022-03-06T06:42:36.402785Z",
          "shell.execute_reply.started": "2022-03-06T06:42:36.364309Z"
        },
        "id": "6c2RP4tB3Al7",
        "outputId": "1e13913c-1a4f-41bf-c111-fff0f86d1db0",
        "colab": {
          "base_uri": "https://localhost:8080/"
        }
      },
      "outputs": [
        {
          "output_type": "execute_result",
          "data": {
            "text/plain": [
              "17"
            ]
          },
          "metadata": {},
          "execution_count": 39
        }
      ],
      "source": [
        "# get maximum length of the caption available\n",
        "max_length = max(len(caption.split()) for caption in all_captions)\n",
        "max_length"
      ]
    },
    {
      "cell_type": "markdown",
      "metadata": {
        "id": "TiAjD3q13Al7"
      },
      "source": [
        "## Train Test Split"
      ]
    },
    {
      "cell_type": "code",
      "execution_count": 5,
      "metadata": {
        "execution": {
          "iopub.execute_input": "2022-03-06T06:42:36.406025Z",
          "iopub.status.busy": "2022-03-06T06:42:36.405019Z",
          "iopub.status.idle": "2022-03-06T06:42:36.411229Z",
          "shell.execute_reply": "2022-03-06T06:42:36.410251Z",
          "shell.execute_reply.started": "2022-03-06T06:42:36.405987Z"
        },
        "id": "TS7xJjMT3Al7",
        "colab": {
          "base_uri": "https://localhost:8080/",
          "height": 245
        },
        "outputId": "c4641514-f8cc-4e51-9024-4a14c7a2e558"
      },
      "outputs": [
        {
          "output_type": "error",
          "ename": "IndexError",
          "evalue": "ignored",
          "traceback": [
            "\u001b[0;31m---------------------------------------------------------------------------\u001b[0m",
            "\u001b[0;31mIndexError\u001b[0m                                Traceback (most recent call last)",
            "\u001b[0;32m<ipython-input-5-30f656b48dcc>\u001b[0m in \u001b[0;36m<cell line: 11>\u001b[0;34m()\u001b[0m\n\u001b[1;32m     11\u001b[0m \u001b[0;32mfor\u001b[0m \u001b[0mi\u001b[0m \u001b[0;32min\u001b[0m \u001b[0mrange\u001b[0m\u001b[0;34m(\u001b[0m\u001b[0mlen\u001b[0m\u001b[0;34m(\u001b[0m\u001b[0mdecades\u001b[0m\u001b[0;34m)\u001b[0m\u001b[0;34m)\u001b[0m\u001b[0;34m:\u001b[0m\u001b[0;34m\u001b[0m\u001b[0;34m\u001b[0m\u001b[0m\n\u001b[1;32m     12\u001b[0m   \u001b[0;32mfor\u001b[0m \u001b[0midx\u001b[0m \u001b[0;32min\u001b[0m \u001b[0mrange\u001b[0m\u001b[0;34m(\u001b[0m\u001b[0mi\u001b[0m \u001b[0;34m*\u001b[0m \u001b[0mimg_per_decade\u001b[0m\u001b[0;34m,\u001b[0m \u001b[0mi\u001b[0m \u001b[0;34m*\u001b[0m \u001b[0mimg_per_decade\u001b[0m \u001b[0;34m+\u001b[0m \u001b[0msplit\u001b[0m\u001b[0;34m)\u001b[0m\u001b[0;34m:\u001b[0m\u001b[0;34m\u001b[0m\u001b[0;34m\u001b[0m\u001b[0m\n\u001b[0;32m---> 13\u001b[0;31m     \u001b[0mtrain\u001b[0m\u001b[0;34m.\u001b[0m\u001b[0mappend\u001b[0m\u001b[0;34m(\u001b[0m\u001b[0mimage_ids\u001b[0m\u001b[0;34m[\u001b[0m\u001b[0midx\u001b[0m\u001b[0;34m]\u001b[0m\u001b[0;34m)\u001b[0m\u001b[0;34m\u001b[0m\u001b[0;34m\u001b[0m\u001b[0m\n\u001b[0m\u001b[1;32m     14\u001b[0m   \u001b[0;32mfor\u001b[0m \u001b[0midx\u001b[0m \u001b[0;32min\u001b[0m \u001b[0mrange\u001b[0m\u001b[0;34m(\u001b[0m\u001b[0mi\u001b[0m \u001b[0;34m*\u001b[0m \u001b[0mimg_per_decade\u001b[0m \u001b[0;34m+\u001b[0m \u001b[0msplit\u001b[0m\u001b[0;34m,\u001b[0m \u001b[0;34m(\u001b[0m\u001b[0mi\u001b[0m \u001b[0;34m+\u001b[0m \u001b[0;36m1\u001b[0m\u001b[0;34m)\u001b[0m \u001b[0;34m*\u001b[0m \u001b[0mimg_per_decade\u001b[0m\u001b[0;34m)\u001b[0m\u001b[0;34m:\u001b[0m\u001b[0;34m\u001b[0m\u001b[0;34m\u001b[0m\u001b[0m\n\u001b[1;32m     15\u001b[0m     \u001b[0mtest\u001b[0m\u001b[0;34m.\u001b[0m\u001b[0mappend\u001b[0m\u001b[0;34m(\u001b[0m\u001b[0mimage_ids\u001b[0m\u001b[0;34m[\u001b[0m\u001b[0midx\u001b[0m\u001b[0;34m]\u001b[0m\u001b[0;34m)\u001b[0m\u001b[0;34m\u001b[0m\u001b[0;34m\u001b[0m\u001b[0m\n",
            "\u001b[0;31mIndexError\u001b[0m: list index out of range"
          ]
        }
      ],
      "source": [
        "import random\n",
        "image_ids = list(mapping.keys())\n",
        "# random.shuffle(image_ids)\n",
        "# split = int(len(image_ids) * 0.90)\n",
        "train = []\n",
        "test = []\n",
        "img_per_decade = 265\n",
        "split = int(img_per_decade * 0.90)\n",
        "\n",
        "decades = [\"1930s\", \"1940s\", \"1950s\", \"1960s\", \"1970s\"]\n",
        "for i in range(len(decades)):\n",
        "  for idx in range(i * img_per_decade, i * img_per_decade + split):\n",
        "    train.append(image_ids[idx])\n",
        "  for idx in range(i * img_per_decade + split, (i + 1) * img_per_decade):\n",
        "    test.append(image_ids[idx])\n",
        "\n",
        "# print(train)\n",
        "# print(test)\n",
        "# print(len(train))\n",
        "# print(len(test))"
      ]
    },
    {
      "cell_type": "code",
      "source": [
        "date_mapping = {\"1930s\" : 0, \"1940s\" : 1, \"1950s\" : 2, \"1960s\" : 3, \"1970s\" : 4}\n",
        "rev_date_mapping = {0 : \"1930s\", 1 : \"1940s\", 2 : \"1950s\", 3 : \"1960s\", 4 : \"1970s\"}"
      ],
      "metadata": {
        "id": "3kHg2iGtz1hV"
      },
      "execution_count": 66,
      "outputs": []
    },
    {
      "cell_type": "code",
      "execution_count": 67,
      "metadata": {
        "execution": {
          "iopub.execute_input": "2022-03-06T06:42:36.422292Z",
          "iopub.status.busy": "2022-03-06T06:42:36.422033Z",
          "iopub.status.idle": "2022-03-06T06:42:36.434535Z",
          "shell.execute_reply": "2022-03-06T06:42:36.433711Z",
          "shell.execute_reply.started": "2022-03-06T06:42:36.422261Z"
        },
        "id": "27kXq2aP3Al8"
      },
      "outputs": [],
      "source": [
        "def data_generator_cap(data_keys, mapping, features, tokenizer, max_length, vocab_size, batch_size):\n",
        "    # loop over images\n",
        "    X1, X2, y = list(), list(), list()\n",
        "    n = 0\n",
        "    while 1:\n",
        "        for key in data_keys:\n",
        "            n += 1\n",
        "            captions = [mapping[key][0]]\n",
        "            # process each caption\n",
        "            for caption in captions:\n",
        "                # encode the sequence\n",
        "                seq = tokenizer.texts_to_sequences([caption])[0]\n",
        "\n",
        "                # split the sequence into X, y pairs\n",
        "                for i in range(1, len(seq)):\n",
        "                    # split into input and output pairs\n",
        "                    in_seq, out_seq = seq[:i], seq[i]\n",
        "\n",
        "                    # pad input sequence\n",
        "                    in_seq = pad_sequences([in_seq], maxlen=max_length)[0]\n",
        "                    # encode output sequence\n",
        "                    out_seq = to_categorical([out_seq], num_classes=vocab_size)[0]\n",
        "\n",
        "                    # store the sequences\n",
        "                    X1.append(features[key][0])\n",
        "                    X2.append(in_seq)\n",
        "                    y.append(out_seq)\n",
        "\n",
        "            if n == batch_size:\n",
        "                X1, X2, y = np.array(X1), np.array(X2), np.array(y)\n",
        "                yield [X1, X2], y\n",
        "                X1, X2, y = list(), list(), list()\n",
        "                n = 0\n",
        "\n",
        "\n",
        "def data_generator_date(data_keys, mapping, features, tokenizer, max_length, vocab_size, batch_size):\n",
        "    # loop over images\n",
        "    X1, y2 = list(), list()\n",
        "    n = 0\n",
        "    while 1:\n",
        "        for key in data_keys:\n",
        "            n += 1\n",
        "\n",
        "            date = date_mapping[mapping[key][1]]\n",
        "            X1.append(features[key][0])\n",
        "            y2.append(date)\n",
        "\n",
        "            if n == batch_size:\n",
        "                X1, y2 = np.array(X1), np.array(y2)\n",
        "                yield X1, y2\n",
        "                X1, y2 = list(), list()\n",
        "                n = 0"
      ]
    },
    {
      "cell_type": "markdown",
      "metadata": {
        "id": "kx9UWo1B3Al8"
      },
      "source": [
        "## Model Creation"
      ]
    },
    {
      "cell_type": "markdown",
      "source": [
        "input: image feature, current sequence\n",
        "\n",
        "output: next token, date"
      ],
      "metadata": {
        "id": "yc3VTYQDvG0m"
      }
    },
    {
      "cell_type": "code",
      "execution_count": 84,
      "metadata": {
        "execution": {
          "iopub.execute_input": "2022-03-06T06:42:36.435949Z",
          "iopub.status.busy": "2022-03-06T06:42:36.435684Z",
          "iopub.status.idle": "2022-03-06T06:42:38.472355Z",
          "shell.execute_reply": "2022-03-06T06:42:38.469216Z",
          "shell.execute_reply.started": "2022-03-06T06:42:36.435912Z"
        },
        "id": "QNd6KEfq3Al8",
        "outputId": "a0737b4e-694e-4398-b5b4-98a90b58305a",
        "colab": {
          "base_uri": "https://localhost:8080/",
          "height": 754
        }
      },
      "outputs": [
        {
          "output_type": "execute_result",
          "data": {
            "image/png": "[encoded data removed]",
            "text/plain": [
              "<IPython.core.display.Image object>"
            ]
          },
          "metadata": {},
          "execution_count": 84
        }
      ],
      "source": [
        "# # encoder model\n",
        "# # image feature layers\n",
        "# inputs1 = Input(shape=(4096,))\n",
        "# fe1 = Dropout(0.4)(inputs1)\n",
        "# fe2 = Dense(256, activation='relu')(fe1)\n",
        "# # sequence feature layers\n",
        "# inputs2 = Input(shape=(max_length,))\n",
        "# se1 =  wi(vocab_size, 256, mask_zero=True)(inputs2)\n",
        "# se2 = Dropout(0.4)(se1)\n",
        "# se3 = LSTM(256)(se2)\n",
        "\n",
        "# # decoder model\n",
        "# decoder1 = add([fe2, se3], name = \"decoder\")\n",
        "# decoder2 = Dense(256, activation='relu')(decoder1)\n",
        "# outputs = Dense(vocab_size, activation='softmax')(decoder2)\n",
        "\n",
        "# model = Model(inputs=[inputs1, inputs2], outputs=outputs)\n",
        "# model.compile(loss='categorical_crossentropy', optimizer='adam')\n",
        "\n",
        "# # plot the model\n",
        "# plot_model(model, show_shapes=True)\n",
        "\n",
        "\n",
        "# encoder model\n",
        "# image feature layers\n",
        "inputs1 = Input(shape=(4096,))\n",
        "fe1 = Dropout(0.4)(inputs1)\n",
        "fe2 = Dense(256, activation='relu')(fe1)\n",
        "# sequence feature layers\n",
        "inputs2 = Input(shape=(max_length,))\n",
        "se1 = Embedding(vocab_size, 256, mask_zero=True)(inputs2)\n",
        "se2 = Dropout(0.4)(se1)\n",
        "se3 = LSTM(256)(se2)\n",
        "\n",
        "# decoder model\n",
        "decoder1 = add([fe2, se3], name = \"decoder_seq\")\n",
        "decoder2 = Dense(256, activation='relu')(decoder1)\n",
        "output_seq = Dense(vocab_size, activation='softmax')(decoder2)\n",
        "\n",
        "cap_model = Model(inputs=[inputs1, inputs2], outputs=output_seq)\n",
        "cap_model.compile(loss='categorical_crossentropy', optimizer='adam')\n",
        "\n",
        "# plot the model\n",
        "plot_model(cap_model, show_shapes=True)"
      ]
    },
    {
      "cell_type": "code",
      "source": [
        "# decoder3 = add([fe2], name = \"decoder_date\")\n",
        "decoder4 = Dense(256, activation='relu')(fe2)\n",
        "output_date = Dense(5, activation='softmax')(decoder4)\n",
        "\n",
        "date_model = Model(inputs=inputs1, outputs=output_date)\n",
        "date_model.compile(loss='sparse_categorical_crossentropy', optimizer='adam')\n",
        "plot_model(date_model, show_shapes=True)"
      ],
      "metadata": {
        "colab": {
          "base_uri": "https://localhost:8080/",
          "height": 533
        },
        "id": "tnFwui3AAuvJ",
        "outputId": "b8a9c4d7-7f5c-49bc-ac2a-7cf05db74802"
      },
      "execution_count": 85,
      "outputs": [
        {
          "output_type": "execute_result",
          "data": {
            "image/png": "[encoded data removed]",
            "text/plain": [
              "<IPython.core.display.Image object>"
            ]
          },
          "metadata": {},
          "execution_count": 85
        }
      ]
    },
    {
      "cell_type": "code",
      "execution_count": 86,
      "metadata": {
        "execution": {
          "iopub.execute_input": "2022-03-06T06:42:38.474530Z",
          "iopub.status.busy": "2022-03-06T06:42:38.474040Z",
          "iopub.status.idle": "2022-03-06T07:06:15.926491Z",
          "shell.execute_reply": "2022-03-06T07:06:15.925776Z",
          "shell.execute_reply.started": "2022-03-06T06:42:38.474487Z"
        },
        "id": "wVdjPn663Al8",
        "outputId": "4659ad5a-5dac-41d4-b763-77b7b8068c60",
        "colab": {
          "base_uri": "https://localhost:8080/"
        }
      },
      "outputs": [
        {
          "output_type": "stream",
          "name": "stdout",
          "text": [
            "1190 1325 1325\n",
            "74/74 [==============================] - 1s 3ms/step - loss: 8.1412\n",
            "74/74 [==============================] - 0s 3ms/step - loss: 2.0695\n"
          ]
        }
      ],
      "source": [
        "# train the model\n",
        "# epochs = 20\n",
        "epochs_cap, epochs_date = 10, 2\n",
        "batch_size = 16\n",
        "steps = len(train) // batch_size\n",
        "# print(features)\n",
        "# print(mapping)\n",
        "print(len(train), len(mapping), len(features))\n",
        "\n",
        "for i in range(epochs_cap):\n",
        "    # create data generator\n",
        "    generator = data_generator_cap(train, mapping, features, tokenizer, max_length, vocab_size, batch_size)\n",
        "    # fit for one epoch\n",
        "    cap_model.fit(generator, epochs=1, steps_per_epoch=steps, verbose=1)\n",
        "\n",
        "for i in range(epochs_date):\n",
        "    # create data generator\n",
        "    generator = data_generator_date(train, mapping, features, tokenizer, max_length, vocab_size, batch_size)\n",
        "    # fit for one epoch\n",
        "    date_model.fit(generator, epochs=1, steps_per_epoch=steps, verbose=1)"
      ]
    },
    {
      "cell_type": "code",
      "execution_count": 77,
      "metadata": {
        "execution": {
          "iopub.execute_input": "2022-03-06T07:06:15.928220Z",
          "iopub.status.busy": "2022-03-06T07:06:15.927965Z",
          "iopub.status.idle": "2022-03-06T07:06:16.090583Z",
          "shell.execute_reply": "2022-03-06T07:06:16.088709Z",
          "shell.execute_reply.started": "2022-03-06T07:06:15.928186Z"
        },
        "id": "80ADphvO3Al8",
        "outputId": "2252835f-6ef3-498f-8cc6-9f87486cd7a7",
        "colab": {
          "base_uri": "https://localhost:8080/"
        }
      },
      "outputs": [
        {
          "output_type": "stream",
          "name": "stderr",
          "text": [
            "/usr/local/lib/python3.10/dist-packages/keras/src/engine/training.py:3079: UserWarning: You are saving your model as an HDF5 file via `model.save()`. This file format is considered legacy. We recommend using instead the native Keras format, e.g. `model.save('my_model.keras')`.\n",
            "  saving_api.save_model(\n"
          ]
        }
      ],
      "source": [
        "# save the model\n",
        "# cap_model.save(WORKING_DIR+'/best_model_cap_10_epochs.h5')\n",
        "date_model.save(WORKING_DIR+'/best_model_date_1_epochs.h5')\n",
        "# cap_model.save(WORKING_DIR+'/cap.keras')\n",
        "date_model.save(WORKING_DIR+'/date.keras')"
      ]
    },
    {
      "cell_type": "markdown",
      "metadata": {
        "id": "ZJwLQdXc3Al8"
      },
      "source": [
        "## Generate Captions for the Image"
      ]
    },
    {
      "cell_type": "code",
      "source": [
        "# Load model\n",
        "cap_model = load_model(WORKING_DIR + '/cap.keras')\n",
        "date_model = load_model(WORKING_DIR + '/date.keras')"
      ],
      "metadata": {
        "id": "EAFpPGud-ojJ"
      },
      "execution_count": 78,
      "outputs": []
    },
    {
      "cell_type": "code",
      "execution_count": 44,
      "metadata": {
        "execution": {
          "iopub.execute_input": "2022-03-06T07:06:16.093448Z",
          "iopub.status.busy": "2022-03-06T07:06:16.092736Z",
          "iopub.status.idle": "2022-03-06T07:06:16.100031Z",
          "shell.execute_reply": "2022-03-06T07:06:16.098267Z",
          "shell.execute_reply.started": "2022-03-06T07:06:16.093377Z"
        },
        "id": "IZl3T1m43Al9"
      },
      "outputs": [],
      "source": [
        "def idx_to_word(integer, tokenizer):\n",
        "    for word, index in tokenizer.word_index.items():\n",
        "        if index == integer:\n",
        "            return word\n",
        "    return None"
      ]
    },
    {
      "cell_type": "code",
      "execution_count": 45,
      "metadata": {
        "execution": {
          "iopub.execute_input": "2022-03-06T07:06:16.108028Z",
          "iopub.status.busy": "2022-03-06T07:06:16.102398Z",
          "iopub.status.idle": "2022-03-06T07:06:16.122532Z",
          "shell.execute_reply": "2022-03-06T07:06:16.121669Z",
          "shell.execute_reply.started": "2022-03-06T07:06:16.107982Z"
        },
        "id": "OAbhx72x3Al9"
      },
      "outputs": [],
      "source": [
        "# generate caption for an image\n",
        "def predict_caption(model, image, tokenizer, max_length):\n",
        "    # add start tag for generation process\n",
        "    in_text = 'startseq'\n",
        "    # iterate over the max length of sequence\n",
        "    for i in range(max_length):\n",
        "        # encode input sequence\n",
        "        sequence = tokenizer.texts_to_sequences([in_text])[0]\n",
        "        # pad the sequence\n",
        "        sequence = pad_sequences([sequence], max_length)\n",
        "        # predict next word\n",
        "        yhat = model.predict([image, sequence], verbose=0)\n",
        "\n",
        "        # get index with high probability\n",
        "        caption = np.argmax(yhat)\n",
        "        # convert index to word\n",
        "        word = idx_to_word(caption, tokenizer)\n",
        "\n",
        "        # stop if word not found\n",
        "        if word is None:\n",
        "            break\n",
        "        # append word as input for generating next word\n",
        "        in_text += \" \" + word\n",
        "        # stop if we reach end tag\n",
        "        if word == 'endseq':\n",
        "            break\n",
        "    # print(in_text)\n",
        "\n",
        "    return in_text\n",
        "\n",
        "# generate caption for an image\n",
        "def predict_date(model, image):\n",
        "    yhat = model.predict([image], verbose=0)\n",
        "    date = np.argmax(yhat)\n",
        "    date = rev_date_mapping[date]\n",
        "    return date"
      ]
    },
    {
      "cell_type": "code",
      "execution_count": 87,
      "metadata": {
        "execution": {
          "iopub.execute_input": "2022-03-06T07:06:16.124177Z",
          "iopub.status.busy": "2022-03-06T07:06:16.123749Z",
          "iopub.status.idle": "2022-03-06T07:12:27.075826Z",
          "shell.execute_reply": "2022-03-06T07:12:27.075089Z",
          "shell.execute_reply.started": "2022-03-06T07:06:16.124139Z"
        },
        "colab": {
          "referenced_widgets": [
            "7f030118e92c43c7a5d96fae0a6867e8",
            "54a83b842c1449be9e4440e94397da56",
            "b8c8b8d5d55e43c499dd9d730c7c725a",
            "73507f7871e449cf933c6db86a48d177",
            "fddbbbe829af4a0f95655bf4fe77630c",
            "91dea67f5528465684e2efa6de196254",
            "e1f3a746294e437d891bbeed5149c660",
            "0033c122fa1d473797a8e78317a91623",
            "363a53d415aa4879b61047f231b88733",
            "516f615b870f4e61b9998aa58a8b549f",
            "4cf4246952044d2d99b7528638079708"
          ],
          "base_uri": "https://localhost:8080/",
          "height": 66
        },
        "id": "dbXF3w763Al9",
        "outputId": "249f5c3c-5b05-40bd-ab4b-9a6ef81e0d93"
      },
      "outputs": [
        {
          "output_type": "display_data",
          "data": {
            "text/plain": [
              "  0%|          | 0/135 [00:00<?, ?it/s]"
            ],
            "application/vnd.jupyter.widget-view+json": {
              "version_major": 2,
              "version_minor": 0,
              "model_id": "7f030118e92c43c7a5d96fae0a6867e8"
            }
          },
          "metadata": {}
        },
        {
          "output_type": "stream",
          "name": "stdout",
          "text": [
            "[[0, 0, 0, 0, 0], [0, 0, 0, 0, 0], [27, 27, 27, 27, 27], [0, 0, 0, 0, 0], [0, 0, 0, 0, 0]]\n"
          ]
        }
      ],
      "source": [
        "from nltk.translate.bleu_score import corpus_bleu\n",
        "# validate with test data\n",
        "actual, predicted, actual_date, predicted_date = list(), list(), list(), list()\n",
        "\n",
        "for key in tqdm(test):\n",
        "    # get actual caption\n",
        "    captions, date_actual = mapping[key]\n",
        "    # predict the caption for image\n",
        "    cap_pred = predict_caption(cap_model, features[key], tokenizer, max_length)\n",
        "    # split into words\n",
        "    actual_captions = [caption.split() for caption in [captions]]\n",
        "    cap_pred = cap_pred.split()\n",
        "    # append to the list\n",
        "    actual.append(actual_captions)\n",
        "    # print(actual_captions)\n",
        "    predicted.append(cap_pred)\n",
        "\n",
        "    date_pred = predict_date(date_model, features[key])\n",
        "    actual_date.append(date_actual)\n",
        "    predicted_date.append(date_pred)\n",
        "\n",
        "# calcuate BLEU score\n",
        "# print(\"BLEU-1: %f\" % corpus_bleu(actual, predicted, weights=(1.0, 0, 0, 0)))\n",
        "# print(\"BLEU-2: %f\" % corpus_bleu(actual, predicted, weights=(0.5, 0.5, 0, 0)))\n",
        "# print(\"BLEU-3: %f\" % corpus_bleu(actual, predicted, weights=(0.33, 0.33, 0.34, 0)))\n",
        "# print(\"BLEU-4: %f\" % corpus_bleu(actual, predicted, weights=(0.25, 0.25, 0.25, 0.25)))\n",
        "\n",
        "confusion_matrix = [[0] * 5 for i in range(5)]\n",
        "\n",
        "for i in range(len(actual_date)):\n",
        "  true, pred = actual_date[i], predicted_date[i]\n",
        "  true_idx, pred_idx = date_mapping[true], date_mapping[pred]\n",
        "  confusion_matrix[pred_idx][true_idx] += 1\n",
        "\n",
        "print(confusion_matrix)"
      ]
    },
    {
      "cell_type": "code",
      "source": [
        "np.transpose(np.array(confusion_matrix))"
      ],
      "metadata": {
        "colab": {
          "base_uri": "https://localhost:8080/"
        },
        "id": "OPGVqPcan3kO",
        "outputId": "bb6c6301-82ca-4f89-a9e0-9a3e1719d9cc"
      },
      "execution_count": 80,
      "outputs": [
        {
          "output_type": "execute_result",
          "data": {
            "text/plain": [
              "array([[ 0,  0,  0, 27,  0],\n",
              "       [ 0,  0,  0, 27,  0],\n",
              "       [ 0,  0,  0, 27,  0],\n",
              "       [ 0,  0,  0, 27,  0],\n",
              "       [ 0,  0,  0, 27,  0]])"
            ]
          },
          "metadata": {},
          "execution_count": 80
        }
      ]
    },
    {
      "cell_type": "markdown",
      "metadata": {
        "id": "xd4okdoX3Al9"
      },
      "source": [
        "## Visualize the Results"
      ]
    },
    {
      "cell_type": "code",
      "execution_count": null,
      "metadata": {
        "execution": {
          "iopub.execute_input": "2022-03-06T07:12:27.077550Z",
          "iopub.status.busy": "2022-03-06T07:12:27.077132Z",
          "iopub.status.idle": "2022-03-06T07:12:27.084620Z",
          "shell.execute_reply": "2022-03-06T07:12:27.083943Z",
          "shell.execute_reply.started": "2022-03-06T07:12:27.077509Z"
        },
        "id": "dI-dP_we3Al9"
      },
      "outputs": [],
      "source": [
        "from PIL import Image\n",
        "import matplotlib.pyplot as plt\n",
        "def generate_caption(image_name):\n",
        "    # load the image\n",
        "    # image_name = \"1001773457_577c3a7d70.jpg\"\n",
        "    image_id = image_name.split('.')[0]\n",
        "    img_path = os.path.join(BASE_DIR, \"images\", image_name)\n",
        "    image = Image.open(img_path)\n",
        "    caption, date = mapping[image_id]\n",
        "    print('---------------------Actual---------------------')\n",
        "    # for caption in captions:\n",
        "    print(\"Caption: \", caption)\n",
        "    print(\"Date: \", date)\n",
        "    # predict the caption\n",
        "    cap_pred = predict_caption(cap_model, features[image_id], tokenizer, max_length)\n",
        "    date_pred = predict_date(date_model, features[image_id])\n",
        "    print('--------------------Predicted--------------------')\n",
        "    print(\"Caption: \", cap_pred)\n",
        "    print(\"Date: \", date_pred)\n",
        "    plt.imshow(image)"
      ]
    },
    {
      "cell_type": "code",
      "source": [
        "generate_caption(\"1930s_264.jpg\")"
      ],
      "metadata": {
        "id": "ZNhxW8uzfGiv"
      },
      "execution_count": null,
      "outputs": []
    },
    {
      "cell_type": "code",
      "execution_count": null,
      "metadata": {
        "execution": {
          "iopub.execute_input": "2022-03-06T07:12:27.086378Z",
          "iopub.status.busy": "2022-03-06T07:12:27.085839Z",
          "iopub.status.idle": "2022-03-06T07:12:27.811836Z",
          "shell.execute_reply": "2022-03-06T07:12:27.811100Z",
          "shell.execute_reply.started": "2022-03-06T07:12:27.086340Z"
        },
        "id": "naGxWx2q3Al-"
      },
      "outputs": [],
      "source": [
        "generate_caption(\"1940s_264.jpg\")"
      ]
    },
    {
      "cell_type": "code",
      "execution_count": null,
      "metadata": {
        "execution": {
          "iopub.execute_input": "2022-03-06T07:12:27.813391Z",
          "iopub.status.busy": "2022-03-06T07:12:27.812965Z",
          "iopub.status.idle": "2022-03-06T07:12:28.645372Z",
          "shell.execute_reply": "2022-03-06T07:12:28.644695Z",
          "shell.execute_reply.started": "2022-03-06T07:12:27.813352Z"
        },
        "id": "IOrFfyYL3Al-"
      },
      "outputs": [],
      "source": [
        "generate_caption(\"1950s_264.jpg\")"
      ]
    },
    {
      "cell_type": "code",
      "execution_count": null,
      "metadata": {
        "execution": {
          "iopub.execute_input": "2022-03-06T07:12:28.647257Z",
          "iopub.status.busy": "2022-03-06T07:12:28.646519Z",
          "iopub.status.idle": "2022-03-06T07:12:29.247604Z",
          "shell.execute_reply": "2022-03-06T07:12:29.246938Z",
          "shell.execute_reply.started": "2022-03-06T07:12:28.647219Z"
        },
        "id": "fnL2DqR-3AmM"
      },
      "outputs": [],
      "source": [
        "generate_caption(\"1960s_264.jpg\")"
      ]
    },
    {
      "cell_type": "code",
      "source": [
        "generate_caption(\"1970s_250.jpg\")"
      ],
      "metadata": {
        "id": "SQSZNr4VfKDT"
      },
      "execution_count": null,
      "outputs": []
    },
    {
      "cell_type": "markdown",
      "metadata": {
        "id": "dNP8i_U33AmM"
      },
      "source": [
        "## Test with Real Image"
      ]
    },
    {
      "cell_type": "code",
      "execution_count": 51,
      "metadata": {
        "execution": {
          "iopub.execute_input": "2023-02-07T10:52:49.644967Z",
          "iopub.status.busy": "2023-02-07T10:52:49.644329Z",
          "iopub.status.idle": "2023-02-07T10:52:52.452913Z",
          "shell.execute_reply": "2023-02-07T10:52:52.452096Z",
          "shell.execute_reply.started": "2023-02-07T10:52:49.644930Z"
        },
        "id": "A-kqZkDU3AmM"
      },
      "outputs": [],
      "source": [
        "vgg_model = VGG16()\n",
        "vgg_model = Model(inputs=vgg_model.inputs, outputs=vgg_model.layers[-2].output)"
      ]
    },
    {
      "cell_type": "code",
      "execution_count": 62,
      "metadata": {
        "execution": {
          "iopub.execute_input": "2023-02-07T10:53:08.419042Z",
          "iopub.status.busy": "2023-02-07T10:53:08.418775Z",
          "iopub.status.idle": "2023-02-07T10:53:09.313035Z",
          "shell.execute_reply": "2023-02-07T10:53:09.312141Z",
          "shell.execute_reply.started": "2023-02-07T10:53:08.419012Z"
        },
        "id": "u8v8tnL_3AmM",
        "outputId": "364308ab-afca-4be8-f192-681c600e8dac",
        "colab": {
          "base_uri": "https://localhost:8080/"
        }
      },
      "outputs": [
        {
          "output_type": "stream",
          "name": "stdout",
          "text": [
            "startseq woman sitting in living living living living room during the 1960s endseq\n",
            "1940s\n"
          ]
        }
      ],
      "source": [
        "image_path = BASE_DIR + \"/test/test_1.jpg\"\n",
        "\n",
        "# load image\n",
        "image = load_img(image_path, target_size=(224, 224))\n",
        "# convert image pixels to numpy array\n",
        "image = img_to_array(image)\n",
        "# reshape data for model\n",
        "image = image.reshape((1, image.shape[0], image.shape[1], image.shape[2]))\n",
        "# preprocess image for vgg\n",
        "image = preprocess_input(image)\n",
        "# extract features\n",
        "feature = vgg_model.predict(image, verbose=0)\n",
        "# predict from the trained model\n",
        "print(predict_caption(cap_model, feature, tokenizer, max_length))\n",
        "print(predict_date(date_model, feature))"
      ]
    },
    {
      "cell_type": "code",
      "execution_count": 63,
      "metadata": {
        "id": "m8u6YQoF3AmN",
        "colab": {
          "base_uri": "https://localhost:8080/"
        },
        "outputId": "3349d165-00e0-4877-f9ed-3bfcd2e1513d"
      },
      "outputs": [
        {
          "output_type": "stream",
          "name": "stdout",
          "text": [
            "startseq woman sitting on top of people on the phone during the 1960s endseq\n",
            "1960s\n"
          ]
        }
      ],
      "source": [
        "image_path = BASE_DIR + \"/test/test_2.jpg\"\n",
        "\n",
        "# load image\n",
        "image = load_img(image_path, target_size=(224, 224))\n",
        "# convert image pixels to numpy array\n",
        "image = img_to_array(image)\n",
        "# reshape data for model\n",
        "image = image.reshape((1, image.shape[0], image.shape[1], image.shape[2]))\n",
        "# preprocess image for vgg\n",
        "image = preprocess_input(image)\n",
        "# extract features\n",
        "feature = vgg_model.predict(image, verbose=0)\n",
        "# predict from the trained model\n",
        "print(predict_caption(cap_model, feature, tokenizer, max_length))\n",
        "print(predict_date(date_model, feature))"
      ]
    },
    {
      "cell_type": "code",
      "execution_count": 64,
      "metadata": {
        "id": "DxfbsF3F3AmN",
        "colab": {
          "base_uri": "https://localhost:8080/"
        },
        "outputId": "72a1bb49-6d42-413e-a4ff-09a75caa5a66"
      },
      "outputs": [
        {
          "output_type": "stream",
          "name": "stdout",
          "text": [
            "startseq man and woman sitting on top of wooden during the 1960s endseq\n",
            "1940s\n"
          ]
        }
      ],
      "source": [
        "image_path = BASE_DIR + \"/test/test_3.jpg\"\n",
        "\n",
        "# load image\n",
        "image = load_img(image_path, target_size=(224, 224))\n",
        "# convert image pixels to numpy array\n",
        "image = img_to_array(image)\n",
        "# reshape data for model\n",
        "image = image.reshape((1, image.shape[0], image.shape[1], image.shape[2]))\n",
        "# preprocess image for vgg\n",
        "image = preprocess_input(image)\n",
        "# extract features\n",
        "feature = vgg_model.predict(image, verbose=0)\n",
        "# predict from the trained model\n",
        "print(predict_caption(cap_model, feature, tokenizer, max_length))\n",
        "print(predict_date(date_model, feature))"
      ]
    }
  ],
  "metadata": {
    "kernelspec": {
      "display_name": "Python 3",
      "name": "python3"
    },
    "language_info": {
      "codemirror_mode": {
        "name": "ipython",
        "version": 3
      },
      "file_extension": ".py",
      "mimetype": "text/x-python",
      "name": "python",
      "nbconvert_exporter": "python",
      "pygments_lexer": "ipython3",
      "version": "3.11.5"
    },
    "colab": {
      "provenance": [],
      "gpuType": "T4"
    },
    "accelerator": "GPU",
    "widgets": {
      "application/vnd.jupyter.widget-state+json": {
        "dee1e17c501940aa9834252e34e08a84": {
          "model_module": "@jupyter-widgets/controls",
          "model_name": "HBoxModel",
          "model_module_version": "1.5.0",
          "state": {
            "_dom_classes": [],
            "_model_module": "@jupyter-widgets/controls",
            "_model_module_version": "1.5.0",
            "_model_name": "HBoxModel",
            "_view_count": null,
            "_view_module": "@jupyter-widgets/controls",
            "_view_module_version": "1.5.0",
            "_view_name": "HBoxView",
            "box_style": "",
            "children": [
              "IPY_MODEL_5784eac0ac144312890b312816cbec07",
              "IPY_MODEL_190781b385f442a0a615bc4fcf67d0f7",
              "IPY_MODEL_6d312b7b162b4176abd5f5c46f3467fa"
            ],
            "layout": "IPY_MODEL_c6d90098810246cbbd7335784d75d93b"
          }
        },
        "5784eac0ac144312890b312816cbec07": {
          "model_module": "@jupyter-widgets/controls",
          "model_name": "HTMLModel",
          "model_module_version": "1.5.0",
          "state": {
            "_dom_classes": [],
            "_model_module": "@jupyter-widgets/controls",
            "_model_module_version": "1.5.0",
            "_model_name": "HTMLModel",
            "_view_count": null,
            "_view_module": "@jupyter-widgets/controls",
            "_view_module_version": "1.5.0",
            "_view_name": "HTMLView",
            "description": "",
            "description_tooltip": null,
            "layout": "IPY_MODEL_0fc1bd1af16c483bb4da1ea748dfad9c",
            "placeholder": "​",
            "style": "IPY_MODEL_8a855007172a4b0789674551d2e407f9",
            "value": "100%"
          }
        },
        "190781b385f442a0a615bc4fcf67d0f7": {
          "model_module": "@jupyter-widgets/controls",
          "model_name": "FloatProgressModel",
          "model_module_version": "1.5.0",
          "state": {
            "_dom_classes": [],
            "_model_module": "@jupyter-widgets/controls",
            "_model_module_version": "1.5.0",
            "_model_name": "FloatProgressModel",
            "_view_count": null,
            "_view_module": "@jupyter-widgets/controls",
            "_view_module_version": "1.5.0",
            "_view_name": "ProgressView",
            "bar_style": "success",
            "description": "",
            "description_tooltip": null,
            "layout": "IPY_MODEL_ad1179e3652a444284a746a4f8f71dec",
            "max": 1325,
            "min": 0,
            "orientation": "horizontal",
            "style": "IPY_MODEL_c49bf0f688c44180ae6664fea1f69afa",
            "value": 1325
          }
        },
        "6d312b7b162b4176abd5f5c46f3467fa": {
          "model_module": "@jupyter-widgets/controls",
          "model_name": "HTMLModel",
          "model_module_version": "1.5.0",
          "state": {
            "_dom_classes": [],
            "_model_module": "@jupyter-widgets/controls",
            "_model_module_version": "1.5.0",
            "_model_name": "HTMLModel",
            "_view_count": null,
            "_view_module": "@jupyter-widgets/controls",
            "_view_module_version": "1.5.0",
            "_view_name": "HTMLView",
            "description": "",
            "description_tooltip": null,
            "layout": "IPY_MODEL_30aa79b6c1da4dd8aa17dd4c8fe6cb5b",
            "placeholder": "​",
            "style": "IPY_MODEL_d79016dbbdf24782bab0cd15cef0ae26",
            "value": " 1325/1325 [02:27&lt;00:00, 10.66it/s]"
          }
        },
        "c6d90098810246cbbd7335784d75d93b": {
          "model_module": "@jupyter-widgets/base",
          "model_name": "LayoutModel",
          "model_module_version": "1.2.0",
          "state": {
            "_model_module": "@jupyter-widgets/base",
            "_model_module_version": "1.2.0",
            "_model_name": "LayoutModel",
            "_view_count": null,
            "_view_module": "@jupyter-widgets/base",
            "_view_module_version": "1.2.0",
            "_view_name": "LayoutView",
            "align_content": null,
            "align_items": null,
            "align_self": null,
            "border": null,
            "bottom": null,
            "display": null,
            "flex": null,
            "flex_flow": null,
            "grid_area": null,
            "grid_auto_columns": null,
            "grid_auto_flow": null,
            "grid_auto_rows": null,
            "grid_column": null,
            "grid_gap": null,
            "grid_row": null,
            "grid_template_areas": null,
            "grid_template_columns": null,
            "grid_template_rows": null,
            "height": null,
            "justify_content": null,
            "justify_items": null,
            "left": null,
            "margin": null,
            "max_height": null,
            "max_width": null,
            "min_height": null,
            "min_width": null,
            "object_fit": null,
            "object_position": null,
            "order": null,
            "overflow": null,
            "overflow_x": null,
            "overflow_y": null,
            "padding": null,
            "right": null,
            "top": null,
            "visibility": null,
            "width": null
          }
        },
        "0fc1bd1af16c483bb4da1ea748dfad9c": {
          "model_module": "@jupyter-widgets/base",
          "model_name": "LayoutModel",
          "model_module_version": "1.2.0",
          "state": {
            "_model_module": "@jupyter-widgets/base",
            "_model_module_version": "1.2.0",
            "_model_name": "LayoutModel",
            "_view_count": null,
            "_view_module": "@jupyter-widgets/base",
            "_view_module_version": "1.2.0",
            "_view_name": "LayoutView",
            "align_content": null,
            "align_items": null,
            "align_self": null,
            "border": null,
            "bottom": null,
            "display": null,
            "flex": null,
            "flex_flow": null,
            "grid_area": null,
            "grid_auto_columns": null,
            "grid_auto_flow": null,
            "grid_auto_rows": null,
            "grid_column": null,
            "grid_gap": null,
            "grid_row": null,
            "grid_template_areas": null,
            "grid_template_columns": null,
            "grid_template_rows": null,
            "height": null,
            "justify_content": null,
            "justify_items": null,
            "left": null,
            "margin": null,
            "max_height": null,
            "max_width": null,
            "min_height": null,
            "min_width": null,
            "object_fit": null,
            "object_position": null,
            "order": null,
            "overflow": null,
            "overflow_x": null,
            "overflow_y": null,
            "padding": null,
            "right": null,
            "top": null,
            "visibility": null,
            "width": null
          }
        },
        "8a855007172a4b0789674551d2e407f9": {
          "model_module": "@jupyter-widgets/controls",
          "model_name": "DescriptionStyleModel",
          "model_module_version": "1.5.0",
          "state": {
            "_model_module": "@jupyter-widgets/controls",
            "_model_module_version": "1.5.0",
            "_model_name": "DescriptionStyleModel",
            "_view_count": null,
            "_view_module": "@jupyter-widgets/base",
            "_view_module_version": "1.2.0",
            "_view_name": "StyleView",
            "description_width": ""
          }
        },
        "ad1179e3652a444284a746a4f8f71dec": {
          "model_module": "@jupyter-widgets/base",
          "model_name": "LayoutModel",
          "model_module_version": "1.2.0",
          "state": {
            "_model_module": "@jupyter-widgets/base",
            "_model_module_version": "1.2.0",
            "_model_name": "LayoutModel",
            "_view_count": null,
            "_view_module": "@jupyter-widgets/base",
            "_view_module_version": "1.2.0",
            "_view_name": "LayoutView",
            "align_content": null,
            "align_items": null,
            "align_self": null,
            "border": null,
            "bottom": null,
            "display": null,
            "flex": null,
            "flex_flow": null,
            "grid_area": null,
            "grid_auto_columns": null,
            "grid_auto_flow": null,
            "grid_auto_rows": null,
            "grid_column": null,
            "grid_gap": null,
            "grid_row": null,
            "grid_template_areas": null,
            "grid_template_columns": null,
            "grid_template_rows": null,
            "height": null,
            "justify_content": null,
            "justify_items": null,
            "left": null,
            "margin": null,
            "max_height": null,
            "max_width": null,
            "min_height": null,
            "min_width": null,
            "object_fit": null,
            "object_position": null,
            "order": null,
            "overflow": null,
            "overflow_x": null,
            "overflow_y": null,
            "padding": null,
            "right": null,
            "top": null,
            "visibility": null,
            "width": null
          }
        },
        "c49bf0f688c44180ae6664fea1f69afa": {
          "model_module": "@jupyter-widgets/controls",
          "model_name": "ProgressStyleModel",
          "model_module_version": "1.5.0",
          "state": {
            "_model_module": "@jupyter-widgets/controls",
            "_model_module_version": "1.5.0",
            "_model_name": "ProgressStyleModel",
            "_view_count": null,
            "_view_module": "@jupyter-widgets/base",
            "_view_module_version": "1.2.0",
            "_view_name": "StyleView",
            "bar_color": null,
            "description_width": ""
          }
        },
        "30aa79b6c1da4dd8aa17dd4c8fe6cb5b": {
          "model_module": "@jupyter-widgets/base",
          "model_name": "LayoutModel",
          "model_module_version": "1.2.0",
          "state": {
            "_model_module": "@jupyter-widgets/base",
            "_model_module_version": "1.2.0",
            "_model_name": "LayoutModel",
            "_view_count": null,
            "_view_module": "@jupyter-widgets/base",
            "_view_module_version": "1.2.0",
            "_view_name": "LayoutView",
            "align_content": null,
            "align_items": null,
            "align_self": null,
            "border": null,
            "bottom": null,
            "display": null,
            "flex": null,
            "flex_flow": null,
            "grid_area": null,
            "grid_auto_columns": null,
            "grid_auto_flow": null,
            "grid_auto_rows": null,
            "grid_column": null,
            "grid_gap": null,
            "grid_row": null,
            "grid_template_areas": null,
            "grid_template_columns": null,
            "grid_template_rows": null,
            "height": null,
            "justify_content": null,
            "justify_items": null,
            "left": null,
            "margin": null,
            "max_height": null,
            "max_width": null,
            "min_height": null,
            "min_width": null,
            "object_fit": null,
            "object_position": null,
            "order": null,
            "overflow": null,
            "overflow_x": null,
            "overflow_y": null,
            "padding": null,
            "right": null,
            "top": null,
            "visibility": null,
            "width": null
          }
        },
        "d79016dbbdf24782bab0cd15cef0ae26": {
          "model_module": "@jupyter-widgets/controls",
          "model_name": "DescriptionStyleModel",
          "model_module_version": "1.5.0",
          "state": {
            "_model_module": "@jupyter-widgets/controls",
            "_model_module_version": "1.5.0",
            "_model_name": "DescriptionStyleModel",
            "_view_count": null,
            "_view_module": "@jupyter-widgets/base",
            "_view_module_version": "1.2.0",
            "_view_name": "StyleView",
            "description_width": ""
          }
        },
        "7f030118e92c43c7a5d96fae0a6867e8": {
          "model_module": "@jupyter-widgets/controls",
          "model_name": "HBoxModel",
          "model_module_version": "1.5.0",
          "state": {
            "_dom_classes": [],
            "_model_module": "@jupyter-widgets/controls",
            "_model_module_version": "1.5.0",
            "_model_name": "HBoxModel",
            "_view_count": null,
            "_view_module": "@jupyter-widgets/controls",
            "_view_module_version": "1.5.0",
            "_view_name": "HBoxView",
            "box_style": "",
            "children": [
              "IPY_MODEL_54a83b842c1449be9e4440e94397da56",
              "IPY_MODEL_b8c8b8d5d55e43c499dd9d730c7c725a",
              "IPY_MODEL_73507f7871e449cf933c6db86a48d177"
            ],
            "layout": "IPY_MODEL_fddbbbe829af4a0f95655bf4fe77630c"
          }
        },
        "54a83b842c1449be9e4440e94397da56": {
          "model_module": "@jupyter-widgets/controls",
          "model_name": "HTMLModel",
          "model_module_version": "1.5.0",
          "state": {
            "_dom_classes": [],
            "_model_module": "@jupyter-widgets/controls",
            "_model_module_version": "1.5.0",
            "_model_name": "HTMLModel",
            "_view_count": null,
            "_view_module": "@jupyter-widgets/controls",
            "_view_module_version": "1.5.0",
            "_view_name": "HTMLView",
            "description": "",
            "description_tooltip": null,
            "layout": "IPY_MODEL_91dea67f5528465684e2efa6de196254",
            "placeholder": "​",
            "style": "IPY_MODEL_e1f3a746294e437d891bbeed5149c660",
            "value": "100%"
          }
        },
        "b8c8b8d5d55e43c499dd9d730c7c725a": {
          "model_module": "@jupyter-widgets/controls",
          "model_name": "FloatProgressModel",
          "model_module_version": "1.5.0",
          "state": {
            "_dom_classes": [],
            "_model_module": "@jupyter-widgets/controls",
            "_model_module_version": "1.5.0",
            "_model_name": "FloatProgressModel",
            "_view_count": null,
            "_view_module": "@jupyter-widgets/controls",
            "_view_module_version": "1.5.0",
            "_view_name": "ProgressView",
            "bar_style": "success",
            "description": "",
            "description_tooltip": null,
            "layout": "IPY_MODEL_0033c122fa1d473797a8e78317a91623",
            "max": 135,
            "min": 0,
            "orientation": "horizontal",
            "style": "IPY_MODEL_363a53d415aa4879b61047f231b88733",
            "value": 135
          }
        },
        "73507f7871e449cf933c6db86a48d177": {
          "model_module": "@jupyter-widgets/controls",
          "model_name": "HTMLModel",
          "model_module_version": "1.5.0",
          "state": {
            "_dom_classes": [],
            "_model_module": "@jupyter-widgets/controls",
            "_model_module_version": "1.5.0",
            "_model_name": "HTMLModel",
            "_view_count": null,
            "_view_module": "@jupyter-widgets/controls",
            "_view_module_version": "1.5.0",
            "_view_name": "HTMLView",
            "description": "",
            "description_tooltip": null,
            "layout": "IPY_MODEL_516f615b870f4e61b9998aa58a8b549f",
            "placeholder": "​",
            "style": "IPY_MODEL_4cf4246952044d2d99b7528638079708",
            "value": " 135/135 [02:29&lt;00:00,  1.13s/it]"
          }
        },
        "fddbbbe829af4a0f95655bf4fe77630c": {
          "model_module": "@jupyter-widgets/base",
          "model_name": "LayoutModel",
          "model_module_version": "1.2.0",
          "state": {
            "_model_module": "@jupyter-widgets/base",
            "_model_module_version": "1.2.0",
            "_model_name": "LayoutModel",
            "_view_count": null,
            "_view_module": "@jupyter-widgets/base",
            "_view_module_version": "1.2.0",
            "_view_name": "LayoutView",
            "align_content": null,
            "align_items": null,
            "align_self": null,
            "border": null,
            "bottom": null,
            "display": null,
            "flex": null,
            "flex_flow": null,
            "grid_area": null,
            "grid_auto_columns": null,
            "grid_auto_flow": null,
            "grid_auto_rows": null,
            "grid_column": null,
            "grid_gap": null,
            "grid_row": null,
            "grid_template_areas": null,
            "grid_template_columns": null,
            "grid_template_rows": null,
            "height": null,
            "justify_content": null,
            "justify_items": null,
            "left": null,
            "margin": null,
            "max_height": null,
            "max_width": null,
            "min_height": null,
            "min_width": null,
            "object_fit": null,
            "object_position": null,
            "order": null,
            "overflow": null,
            "overflow_x": null,
            "overflow_y": null,
            "padding": null,
            "right": null,
            "top": null,
            "visibility": null,
            "width": null
          }
        },
        "91dea67f5528465684e2efa6de196254": {
          "model_module": "@jupyter-widgets/base",
          "model_name": "LayoutModel",
          "model_module_version": "1.2.0",
          "state": {
            "_model_module": "@jupyter-widgets/base",
            "_model_module_version": "1.2.0",
            "_model_name": "LayoutModel",
            "_view_count": null,
            "_view_module": "@jupyter-widgets/base",
            "_view_module_version": "1.2.0",
            "_view_name": "LayoutView",
            "align_content": null,
            "align_items": null,
            "align_self": null,
            "border": null,
            "bottom": null,
            "display": null,
            "flex": null,
            "flex_flow": null,
            "grid_area": null,
            "grid_auto_columns": null,
            "grid_auto_flow": null,
            "grid_auto_rows": null,
            "grid_column": null,
            "grid_gap": null,
            "grid_row": null,
            "grid_template_areas": null,
            "grid_template_columns": null,
            "grid_template_rows": null,
            "height": null,
            "justify_content": null,
            "justify_items": null,
            "left": null,
            "margin": null,
            "max_height": null,
            "max_width": null,
            "min_height": null,
            "min_width": null,
            "object_fit": null,
            "object_position": null,
            "order": null,
            "overflow": null,
            "overflow_x": null,
            "overflow_y": null,
            "padding": null,
            "right": null,
            "top": null,
            "visibility": null,
            "width": null
          }
        },
        "e1f3a746294e437d891bbeed5149c660": {
          "model_module": "@jupyter-widgets/controls",
          "model_name": "DescriptionStyleModel",
          "model_module_version": "1.5.0",
          "state": {
            "_model_module": "@jupyter-widgets/controls",
            "_model_module_version": "1.5.0",
            "_model_name": "DescriptionStyleModel",
            "_view_count": null,
            "_view_module": "@jupyter-widgets/base",
            "_view_module_version": "1.2.0",
            "_view_name": "StyleView",
            "description_width": ""
          }
        },
        "0033c122fa1d473797a8e78317a91623": {
          "model_module": "@jupyter-widgets/base",
          "model_name": "LayoutModel",
          "model_module_version": "1.2.0",
          "state": {
            "_model_module": "@jupyter-widgets/base",
            "_model_module_version": "1.2.0",
            "_model_name": "LayoutModel",
            "_view_count": null,
            "_view_module": "@jupyter-widgets/base",
            "_view_module_version": "1.2.0",
            "_view_name": "LayoutView",
            "align_content": null,
            "align_items": null,
            "align_self": null,
            "border": null,
            "bottom": null,
            "display": null,
            "flex": null,
            "flex_flow": null,
            "grid_area": null,
            "grid_auto_columns": null,
            "grid_auto_flow": null,
            "grid_auto_rows": null,
            "grid_column": null,
            "grid_gap": null,
            "grid_row": null,
            "grid_template_areas": null,
            "grid_template_columns": null,
            "grid_template_rows": null,
            "height": null,
            "justify_content": null,
            "justify_items": null,
            "left": null,
            "margin": null,
            "max_height": null,
            "max_width": null,
            "min_height": null,
            "min_width": null,
            "object_fit": null,
            "object_position": null,
            "order": null,
            "overflow": null,
            "overflow_x": null,
            "overflow_y": null,
            "padding": null,
            "right": null,
            "top": null,
            "visibility": null,
            "width": null
          }
        },
        "363a53d415aa4879b61047f231b88733": {
          "model_module": "@jupyter-widgets/controls",
          "model_name": "ProgressStyleModel",
          "model_module_version": "1.5.0",
          "state": {
            "_model_module": "@jupyter-widgets/controls",
            "_model_module_version": "1.5.0",
            "_model_name": "ProgressStyleModel",
            "_view_count": null,
            "_view_module": "@jupyter-widgets/base",
            "_view_module_version": "1.2.0",
            "_view_name": "StyleView",
            "bar_color": null,
            "description_width": ""
          }
        },
        "516f615b870f4e61b9998aa58a8b549f": {
          "model_module": "@jupyter-widgets/base",
          "model_name": "LayoutModel",
          "model_module_version": "1.2.0",
          "state": {
            "_model_module": "@jupyter-widgets/base",
            "_model_module_version": "1.2.0",
            "_model_name": "LayoutModel",
            "_view_count": null,
            "_view_module": "@jupyter-widgets/base",
            "_view_module_version": "1.2.0",
            "_view_name": "LayoutView",
            "align_content": null,
            "align_items": null,
            "align_self": null,
            "border": null,
            "bottom": null,
            "display": null,
            "flex": null,
            "flex_flow": null,
            "grid_area": null,
            "grid_auto_columns": null,
            "grid_auto_flow": null,
            "grid_auto_rows": null,
            "grid_column": null,
            "grid_gap": null,
            "grid_row": null,
            "grid_template_areas": null,
            "grid_template_columns": null,
            "grid_template_rows": null,
            "height": null,
            "justify_content": null,
            "justify_items": null,
            "left": null,
            "margin": null,
            "max_height": null,
            "max_width": null,
            "min_height": null,
            "min_width": null,
            "object_fit": null,
            "object_position": null,
            "order": null,
            "overflow": null,
            "overflow_x": null,
            "overflow_y": null,
            "padding": null,
            "right": null,
            "top": null,
            "visibility": null,
            "width": null
          }
        },
        "4cf4246952044d2d99b7528638079708": {
          "model_module": "@jupyter-widgets/controls",
          "model_name": "DescriptionStyleModel",
          "model_module_version": "1.5.0",
          "state": {
            "_model_module": "@jupyter-widgets/controls",
            "_model_module_version": "1.5.0",
            "_model_name": "DescriptionStyleModel",
            "_view_count": null,
            "_view_module": "@jupyter-widgets/base",
            "_view_module_version": "1.2.0",
            "_view_name": "StyleView",
            "description_width": ""
          }
        }
      }
    }
  },
  "nbformat": 4,
  "nbformat_minor": 0
}